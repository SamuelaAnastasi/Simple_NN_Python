{
  "nbformat": 4,
  "nbformat_minor": 0,
  "metadata": {
    "colab": {
      "name": "Simple_NNs_Python.ipynb",
      "provenance": [],
      "include_colab_link": true
    },
    "kernelspec": {
      "name": "python3",
      "display_name": "Python 3"
    }
  },
  "cells": [
    {
      "cell_type": "markdown",
      "metadata": {
        "id": "view-in-github",
        "colab_type": "text"
      },
      "source": [
        "<a href=\"https://colab.research.google.com/github/SamuelaAnastasi/Simple_NN_Python/blob/master/Simple_NNs_Python.ipynb\" target=\"_parent\"><img src=\"https://colab.research.google.com/assets/colab-badge.svg\" alt=\"Open In Colab\"/></a>"
      ]
    },
    {
      "cell_type": "markdown",
      "metadata": {
        "id": "LjF98QjF-lX-",
        "colab_type": "text"
      },
      "source": [
        "###Basic NN from scratch wth Python and NumPy\n",
        "NN has 3 inputs and 1 output neurons\n",
        "It will try to predict the binay digit 0 or 1 given a small database of 4 training examples containing 0 and 1 "
      ]
    },
    {
      "cell_type": "code",
      "metadata": {
        "id": "pmzpIYkn_kvL",
        "colab_type": "code",
        "colab": {}
      },
      "source": [
        "import numpy as np"
      ],
      "execution_count": 0,
      "outputs": []
    },
    {
      "cell_type": "code",
      "metadata": {
        "id": "832OwLow1985",
        "colab_type": "code",
        "colab": {}
      },
      "source": [
        "def sigmoid(x, derivative=False):\n",
        "  \n",
        "  if derivative == True:\n",
        "    return x*(1-x)\n",
        "  \n",
        "  return 1/(1 + np.exp(-x))"
      ],
      "execution_count": 0,
      "outputs": []
    },
    {
      "cell_type": "code",
      "metadata": {
        "id": "FXQHqfu0gg-6",
        "colab_type": "code",
        "outputId": "68ad7abd-6666-4f86-9de6-03c999c6b7c0",
        "colab": {
          "base_uri": "https://localhost:8080/",
          "height": 101
        }
      },
      "source": [
        "# 4 training examples\n",
        "input_db = np.array([[0,0,1],\n",
        "                     [0,1,1],\n",
        "                     [1,0,1],\n",
        "                     [1,1,1]])\n",
        "\n",
        "# target output\n",
        "base_truth = np.array([[0,0,1,1,]]).T\n",
        "\n",
        "#set seed\n",
        "np.random.seed(2)\n",
        "\n",
        "#mean weighted weights\n",
        "weights = 2*np.random.random((3,1)) - 1\n",
        "\n",
        "# train\n",
        "for i in range(10000):\n",
        "  \n",
        "  # input layer\n",
        "  l_i = input_db\n",
        "  \n",
        "  #predictions (probs)\n",
        "  preds = sigmoid(np.dot(l_i, weights))\n",
        "  \n",
        "  # error output level\n",
        "  error_o = base_truth - preds\n",
        "  \n",
        "  # calculate derivatives \n",
        "  derivs = error_o * sigmoid(preds, True)\n",
        "  \n",
        "  # calculate delta to apply to weights\n",
        "  weights_delta = np.dot(l_i.T, derivs)\n",
        "  \n",
        "  # update weights \n",
        "  weights += weights_delta\n",
        "\n",
        "print(\"Output After Training:\")\n",
        "print(preds)\n",
        "\n"
      ],
      "execution_count": 0,
      "outputs": [
        {
          "output_type": "stream",
          "text": [
            "Output After Training:\n",
            "[[0.00967148]\n",
            " [0.00786231]\n",
            " [0.99359256]\n",
            " [0.9921155 ]]\n"
          ],
          "name": "stdout"
        }
      ]
    },
    {
      "cell_type": "markdown",
      "metadata": {
        "id": "ZEY4Nfcs2Gdk",
        "colab_type": "text"
      },
      "source": [
        "###More complex NN\n",
        "Input layer - hidden layer - output layer.  Predicts results based on the combination of 2 inputs (XOR Gate)"
      ]
    },
    {
      "cell_type": "code",
      "metadata": {
        "id": "S2Lo_TeM2wko",
        "colab_type": "code",
        "colab": {}
      },
      "source": [
        "input_db = np.array([[0,0,1],\n",
        "                     [0,1,1],\n",
        "                     [1,0,1],\n",
        "                     [1,1,1]])\n",
        "\n",
        "# target output\n",
        "base_truth = np.array([[0],\n",
        "                       [1],\n",
        "                       [1],\n",
        "                       [0]])\n",
        "\n",
        "#set seed\n",
        "np.random.seed(2)\n",
        "\n",
        "weights_l1 = 2*np.random.random((3,4)) - 1\n",
        "weights_l2 = 2*np.random.random((4,1)) - 1\n",
        "\n",
        "for j in range(60000):\n",
        "  \n",
        "  l_0 = input_db\n",
        "  out_1 = sigmoid(np.dot(l_0, weights_l1))\n",
        "  out_2 = sigmoid(np.dot(out_1, weights_l2))\n",
        "  \n",
        "  error_l2 = base_truth - out_2\n",
        "  \n",
        "  if (j% 10000) == 0:\n",
        "    print (\"Error:\" + str(np.mean(np.abs(error_l2))))\n",
        "  \n",
        "  error_l2_deriv = error_l2 * sigmoid(out_2, True)\n",
        "  \n",
        "  error_l1 = error_l2_deriv.dot(weights_l2.T)\n",
        "  \n",
        "  error_l1_deriv = error_l1 * sigmoid(out_1, True)\n",
        "  \n",
        "  weights_l2 += out_1.T.dot(error_l2_deriv)\n",
        "  weights_l1 += l_0.T.dot(error_l1_deriv)\n",
        "  \n",
        "  "
      ],
      "execution_count": 0,
      "outputs": []
    }
  ]
}